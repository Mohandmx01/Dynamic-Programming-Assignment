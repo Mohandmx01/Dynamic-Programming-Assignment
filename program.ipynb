{
 "cells": [
  {
   "cell_type": "markdown",
   "metadata": {},
   "source": [
    "1,Question"
   ]
  },
  {
   "cell_type": "code",
   "execution_count": 1,
   "metadata": {},
   "outputs": [
    {
     "name": "stdout",
     "output_type": "stream",
     "text": [
      "Taxi 0 booked. Fare: Rs.350, Will be available at 120 minutes.\n",
      "Taxi 1 booked. Fare: Rs.500, Will be available at 250 minutes.\n",
      "Taxi 2 booked. Fare: Rs.500, Will be available at 200 minutes.\n",
      "Taxi 3 booked. Fare: Rs.500, Will be available at 330 minutes.\n",
      "Taxi 0: Location: C, Earnings: Rs.350, Available Time: 120 minutes\n",
      "Taxi 1: Location: E, Earnings: Rs.500, Available Time: 250 minutes\n",
      "Taxi 2: Location: D, Earnings: Rs.500, Available Time: 200 minutes\n",
      "Taxi 3: Location: F, Earnings: Rs.500, Available Time: 330 minutes\n"
     ]
    }
   ],
   "source": [
    "class Taxi:\n",
    "    def __init__(self, id):\n",
    "        self.id = id\n",
    "        self.location = 'A'\n",
    "        self.earnings = 0\n",
    "        self.available = True\n",
    "        self.available_time = 0\n",
    "\n",
    "class BookingSystem:\n",
    "    def __init__(self):\n",
    "        self.taxis = [Taxi(i) for i in range(4)]\n",
    "        self.locations = ['A', 'B', 'C', 'D', 'E', 'F']\n",
    "        self.distance = 15  # distance between consecutive points in km\n",
    "\n",
    "    def calculate_travel_time(self, start, end):\n",
    "        distance_points = abs(self.locations.index(start) - self.locations.index(end))\n",
    "        return distance_points * 60  # in minutes\n",
    "\n",
    "    def calculate_fare(self, start, end):\n",
    "        distance_km = abs(self.locations.index(start) - self.locations.index(end)) * self.distance\n",
    "        fare = 100 + (distance_km - 5) * 10\n",
    "        return fare\n",
    "\n",
    "    def find_nearest_taxi(self, point, current_time):\n",
    "        min_distance = float('inf')\n",
    "        chosen_taxi = None\n",
    "        for taxi in self.taxis:\n",
    "            if taxi.available_time <= current_time:\n",
    "                distance = abs(self.locations.index(taxi.location) - self.locations.index(point))\n",
    "                if distance < min_distance:\n",
    "                    min_distance = distance\n",
    "                    chosen_taxi = taxi\n",
    "                elif distance == min_distance:\n",
    "                    if taxi.earnings < chosen_taxi.earnings:\n",
    "                        chosen_taxi = taxi\n",
    "        return chosen_taxi, min_distance\n",
    "\n",
    "    def book_taxi(self, pickup, drop, booking_time):\n",
    "        # Find the nearest available taxi\n",
    "        taxi, distance_to_pickup = self.find_nearest_taxi(pickup, booking_time)\n",
    "        if taxi is None:\n",
    "            print(\"No taxis available for booking\")\n",
    "            return\n",
    "        \n",
    "        travel_time_to_pickup = self.calculate_travel_time(taxi.location, pickup)\n",
    "        pickup_time = max(taxi.available_time, booking_time) + travel_time_to_pickup\n",
    "        travel_time_to_drop = self.calculate_travel_time(pickup, drop)\n",
    "        drop_time = pickup_time + travel_time_to_drop\n",
    "        \n",
    "        fare = self.calculate_fare(pickup, drop)\n",
    "\n",
    "        # Update taxi details\n",
    "        taxi.location = drop\n",
    "        taxi.earnings += fare\n",
    "        taxi.available_time = drop_time\n",
    "        \n",
    "        print(f\"Taxi {taxi.id} booked. Fare: Rs.{fare}, Will be available at {drop_time} minutes.\")\n",
    "    \n",
    "    def get_taxi_status(self):\n",
    "        for taxi in self.taxis:\n",
    "            print(f\"Taxi {taxi.id}: Location: {taxi.location}, Earnings: Rs.{taxi.earnings}, Available Time: {taxi.available_time} minutes\")\n",
    "\n",
    "# Example usage\n",
    "booking_system = BookingSystem()\n",
    "booking_system.book_taxi('A', 'C', 0)\n",
    "booking_system.book_taxi('B', 'E', 10)\n",
    "booking_system.book_taxi('A', 'D', 20)\n",
    "booking_system.book_taxi('C', 'F', 30)\n",
    "booking_system.get_taxi_status()\n"
   ]
  }
 ],
 "metadata": {
  "kernelspec": {
   "display_name": "Python 3",
   "language": "python",
   "name": "python3"
  },
  "language_info": {
   "codemirror_mode": {
    "name": "ipython",
    "version": 3
   },
   "file_extension": ".py",
   "mimetype": "text/x-python",
   "name": "python",
   "nbconvert_exporter": "python",
   "pygments_lexer": "ipython3",
   "version": "3.10.11"
  }
 },
 "nbformat": 4,
 "nbformat_minor": 2
}
