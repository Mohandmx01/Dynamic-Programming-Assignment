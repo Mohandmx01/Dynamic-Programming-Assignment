{
 "cells": [
  {
   "cell_type": "markdown",
   "metadata": {},
   "source": [
    "Question 1"
   ]
  },
  {
   "cell_type": "code",
   "execution_count": 1,
   "metadata": {},
   "outputs": [
    {
     "name": "stdout",
     "output_type": "stream",
     "text": [
      "[0, 1]\n"
     ]
    }
   ],
   "source": [
    "def two_sum(nums, target):\n",
    "    num_to_index = {}\n",
    "    \n",
    "    for i, num in enumerate(nums):\n",
    "        complement = target - num\n",
    "        \n",
    "        if complement in num_to_index:\n",
    "            return [num_to_index[complement], i]\n",
    "        \n",
    "        num_to_index[num] = i\n",
    "\n",
    "    raise ValueError(\"No two sum solution\")\n",
    "\n",
    "\n",
    "# Example \n",
    "\n",
    "nums = [2, 7, 11, 15]\n",
    "target = 9\n",
    "print(two_sum(nums, target)) \n"
   ]
  },
  {
   "cell_type": "markdown",
   "metadata": {},
   "source": [
    "Question 2"
   ]
  },
  {
   "cell_type": "code",
   "execution_count": 2,
   "metadata": {},
   "outputs": [
    {
     "name": "stdout",
     "output_type": "stream",
     "text": [
      "[['eat', 'tea', 'ate'], ['tan', 'nat'], ['bat']]\n"
     ]
    }
   ],
   "source": [
    "def group_anagrams(strs):\n",
    "    anagrams = {}\n",
    "    \n",
    "    for s in strs:\n",
    "        key = ''.join(sorted(s))\n",
    "        \n",
    "        if key not in anagrams:\n",
    "            anagrams[key] = []\n",
    "        \n",
    "        anagrams[key].append(s)\n",
    "    \n",
    "    return list(anagrams.values())\n",
    "\n",
    "# Example \n",
    "strs = [\"eat\", \"tea\", \"tan\", \"ate\", \"nat\", \"bat\"]\n",
    "print(group_anagrams(strs))  \n"
   ]
  },
  {
   "cell_type": "markdown",
   "metadata": {},
   "source": [
    "Question 3"
   ]
  },
  {
   "cell_type": "code",
   "execution_count": 3,
   "metadata": {},
   "outputs": [
    {
     "name": "stdout",
     "output_type": "stream",
     "text": [
      "3\n"
     ]
    }
   ],
   "source": [
    "def length_of_longest_substring(s):\n",
    "    char_index = {}\n",
    "    \n",
    "    left = 0\n",
    "    max_length = 0\n",
    "    \n",
    "    for right in range(len(s)):\n",
    "        if s[right] in char_index and char_index[s[right]] >= left:\n",
    "            left = char_index[s[right]] + 1\n",
    "        \n",
    "        char_index[s[right]] = right\n",
    "        \n",
    "        max_length = max(max_length, right - left + 1)\n",
    "    \n",
    "    return max_length\n",
    "\n",
    "# Example \n",
    "s = \"abcabcbb\"\n",
    "print(length_of_longest_substring(s)) \n"
   ]
  },
  {
   "cell_type": "markdown",
   "metadata": {},
   "source": [
    "Question 4"
   ]
  },
  {
   "cell_type": "code",
   "execution_count": 4,
   "metadata": {},
   "outputs": [
    {
     "name": "stdout",
     "output_type": "stream",
     "text": [
      "[2, 1]\n"
     ]
    }
   ],
   "source": [
    "from collections import Counter\n",
    "import heapq\n",
    "\n",
    "def top_k_frequent(nums, k):\n",
    "    count = Counter(nums)\n",
    "    \n",
    "    heap = []\n",
    "    \n",
    "    for num, freq in count.items():\n",
    "        heapq.heappush(heap, (freq, num))\n",
    "        if len(heap) > k:\n",
    "            heapq.heappop(heap)\n",
    "    \n",
    "    result = [num for freq, num in heap]\n",
    "    \n",
    "    return result\n",
    "\n",
    "# Example\n",
    "nums = [1, 1, 1, 2, 2, 3]\n",
    "k = 2\n",
    "print(top_k_frequent(nums, k)) \n"
   ]
  },
  {
   "cell_type": "markdown",
   "metadata": {},
   "source": [
    "Question 5"
   ]
  },
  {
   "cell_type": "code",
   "execution_count": 7,
   "metadata": {},
   "outputs": [
    {
     "name": "stdout",
     "output_type": "stream",
     "text": [
      "True\n",
      "False\n"
     ]
    }
   ],
   "source": [
    "def is_anagram(s, t):\n",
    "    if len(s) != len(t):\n",
    "        return False\n",
    "    \n",
    "    count = {}\n",
    "    \n",
    "    for char in s:\n",
    "        count[char] = count.get(char, 0) + 1\n",
    "    \n",
    "    for char in t:\n",
    "        if char in count:\n",
    "            count[char] -= 1\n",
    "            if count[char] < 0:\n",
    "                return False\n",
    "        else:\n",
    "            return False\n",
    "    \n",
    "    for value in count.values():\n",
    "        if value != 0:\n",
    "            return False\n",
    "    \n",
    "    return True\n",
    "\n",
    "# Example \n",
    "s1 = \"anagram\"\n",
    "t1 = \"nagaram\"\n",
    "print(is_anagram(s1, t1)) \n",
    "\n",
    "s2 = \"rat\"\n",
    "t2 = \"car\"\n",
    "print(is_anagram(s2, t2)) \n"
   ]
  }
 ],
 "metadata": {
  "kernelspec": {
   "display_name": "Python 3",
   "language": "python",
   "name": "python3"
  },
  "language_info": {
   "codemirror_mode": {
    "name": "ipython",
    "version": 3
   },
   "file_extension": ".py",
   "mimetype": "text/x-python",
   "name": "python",
   "nbconvert_exporter": "python",
   "pygments_lexer": "ipython3",
   "version": "3.10.11"
  }
 },
 "nbformat": 4,
 "nbformat_minor": 2
}
