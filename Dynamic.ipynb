{
 "cells": [
  {
   "cell_type": "markdown",
   "metadata": {},
   "source": [
    "Question 1 "
   ]
  },
  {
   "cell_type": "code",
   "execution_count": 3,
   "metadata": {},
   "outputs": [
    {
     "name": "stdout",
     "output_type": "stream",
     "text": [
      "3\n",
      "-1\n",
      "0\n"
     ]
    }
   ],
   "source": [
    "def coinChange(coins, amount):\n",
    "    dp = [float('inf')] * (amount + 1)\n",
    "    dp[0] = 0\n",
    "\n",
    "    \n",
    "    for coin in coins:\n",
    "        for i in range(coin, amount + 1):\n",
    "            dp[i] = min(dp[i], dp[i - coin] + 1)\n",
    "\n",
    "    return dp[amount] if dp[amount] != float('inf') else -1\n",
    "\n",
    "# Example 1\n",
    "coins1 = [1, 2, 5]\n",
    "amount1 = 11\n",
    "print(coinChange(coins1, amount1))  \n",
    "\n",
    "# Example 2\n",
    "coins2 = [2]\n",
    "amount2 = 3\n",
    "print(coinChange(coins2, amount2))  \n",
    "\n",
    "# Example 3\n",
    "coins3 = [1]\n",
    "amount3 = 0\n",
    "print(coinChange(coins3, amount3))  \n"
   ]
  },
  {
   "cell_type": "markdown",
   "metadata": {},
   "source": [
    "Question 3"
   ]
  },
  {
   "cell_type": "code",
   "execution_count": 5,
   "metadata": {},
   "outputs": [
    {
     "name": "stdout",
     "output_type": "stream",
     "text": [
      "2\n",
      "1\n",
      "0\n"
     ]
    }
   ],
   "source": [
    "def maxRepeating(sequence, word):\n",
    "    k = 0\n",
    "    repeated_word = word * (k + 1)\n",
    "    while repeated_word in sequence:\n",
    "        k += 1\n",
    "        repeated_word = word * (k + 1)\n",
    "    return k\n",
    "\n",
    "# Example 1\n",
    "sequence1 = \"ababc\"\n",
    "word1 = \"ab\"\n",
    "print(maxRepeating(sequence1, word1))  \n",
    "\n",
    "# Example 2\n",
    "sequence2 = \"ababc\"\n",
    "word2 = \"ba\"\n",
    "print(maxRepeating(sequence2, word2))  \n",
    "\n",
    "# Example 3\n",
    "sequence3 = \"ababc\"\n",
    "word3 = \"ac\"\n",
    "print(maxRepeating(sequence3, word3))  \n"
   ]
  },
  {
   "cell_type": "markdown",
   "metadata": {},
   "source": [
    "Question 4"
   ]
  },
  {
   "cell_type": "code",
   "execution_count": 6,
   "metadata": {},
   "outputs": [
    {
     "name": "stdout",
     "output_type": "stream",
     "text": [
      "6\n",
      "1\n",
      "23\n"
     ]
    }
   ],
   "source": [
    "def maxSubArray(nums):\n",
    "    current_sum = max_sum = nums[0]\n",
    "\n",
    "    for num in nums[1:]:\n",
    "        current_sum = max(num, current_sum + num)\n",
    "        max_sum = max(max_sum, current_sum)\n",
    "\n",
    "    return max_sum\n",
    "\n",
    "# Example 1\n",
    "nums1 = [-2, 1, -3, 4, -1, 2, 1, -5, 4]\n",
    "print(maxSubArray(nums1))  \n",
    "\n",
    "# Example 2\n",
    "nums2 = [1]\n",
    "print(maxSubArray(nums2))  \n",
    "\n",
    "# Example 3\n",
    "nums3 = [5, 4, -1, 7, 8]\n",
    "print(maxSubArray(nums3))  \n"
   ]
  },
  {
   "cell_type": "markdown",
   "metadata": {},
   "source": [
    "Question 5"
   ]
  },
  {
   "cell_type": "code",
   "execution_count": 7,
   "metadata": {},
   "outputs": [
    {
     "name": "stdout",
     "output_type": "stream",
     "text": [
      "2\n",
      "3\n"
     ]
    }
   ],
   "source": [
    "def climbStairs(n):\n",
    "    if n == 1:\n",
    "        return 1\n",
    "    if n == 2:\n",
    "        return 2\n",
    "    \n",
    "    dp = [0] * (n + 1)\n",
    "    dp[1] = 1\n",
    "    dp[2] = 2\n",
    "\n",
    "    for i in range(3, n + 1):\n",
    "        dp[i] = dp[i - 1] + dp[i - 2]\n",
    "\n",
    "    return dp[n]\n",
    "\n",
    "# Example 1\n",
    "print(climbStairs(2))  \n",
    "\n",
    "# Example 2\n",
    "print(climbStairs(3)) \n",
    "\n"
   ]
  }
 ],
 "metadata": {
  "kernelspec": {
   "display_name": "Python 3",
   "language": "python",
   "name": "python3"
  },
  "language_info": {
   "codemirror_mode": {
    "name": "ipython",
    "version": 3
   },
   "file_extension": ".py",
   "mimetype": "text/x-python",
   "name": "python",
   "nbconvert_exporter": "python",
   "pygments_lexer": "ipython3",
   "version": "3.10.11"
  }
 },
 "nbformat": 4,
 "nbformat_minor": 2
}
